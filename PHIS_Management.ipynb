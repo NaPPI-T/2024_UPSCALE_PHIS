{
 "cells": [
  {
   "cell_type": "markdown",
   "id": "885b43cc-0083-4793-ade0-b6fecec6222c",
   "metadata": {},
   "source": [
    "# Import library and Connect to PHIS Database"
   ]
  },
  {
   "cell_type": "code",
   "execution_count": 1,
   "id": "6cf52527-d234-401e-86c5-ad5b617886d6",
   "metadata": {
    "execution": {
     "iopub.execute_input": "2024-06-20T07:57:41.500174Z",
     "iopub.status.busy": "2024-06-20T07:57:41.499175Z",
     "iopub.status.idle": "2024-06-20T07:57:42.797766Z",
     "shell.execute_reply": "2024-06-20T07:57:42.797766Z",
     "shell.execute_reply.started": "2024-06-20T07:57:41.500174Z"
    }
   },
   "outputs": [
    {
     "name": "stdout",
     "output_type": "stream",
     "text": [
      "Library Imported\n"
     ]
    }
   ],
   "source": [
    "### Import library ##########################################################################################################\n",
    "import os\n",
    "import opensilexClientToolsPython as osC\n",
    "import pandas as pd\n",
    "import json\n",
    "import yaml\n",
    "from tqdm import tqdm\n",
    "\n",
    "from datetime import datetime\n",
    "import pytz\n",
    "\n",
    "print(\"Library Imported\")"
   ]
  },
  {
   "cell_type": "code",
   "execution_count": 2,
   "id": "9dec1dd2-1023-4bd4-9af5-339216070bd2",
   "metadata": {
    "execution": {
     "iopub.execute_input": "2024-06-20T07:57:42.802760Z",
     "iopub.status.busy": "2024-06-20T07:57:42.801761Z",
     "iopub.status.idle": "2024-06-20T07:57:42.814762Z",
     "shell.execute_reply": "2024-06-20T07:57:42.813761Z",
     "shell.execute_reply.started": "2024-06-20T07:57:42.802760Z"
    }
   },
   "outputs": [
    {
     "data": {
      "text/plain": [
       "'P:\\\\h572\\\\nappi_hy_data\\\\GrpFd_Common\\\\PHIS_Database'"
      ]
     },
     "metadata": {},
     "output_type": "display_data"
    }
   ],
   "source": [
    "### Set database wd #########################################################################################################\n",
    "wd_DB = os.path.normpath(\"P:/h572/nappi_hy_data/GrpFd_Common/PHIS_Database\")\n",
    "os.chdir(wd_DB)\n",
    "display(wd_DB)"
   ]
  },
  {
   "cell_type": "code",
   "execution_count": 3,
   "id": "9689fa51-66ad-40fe-9764-c878abbddfef",
   "metadata": {
    "execution": {
     "iopub.execute_input": "2024-06-20T07:57:43.114486Z",
     "iopub.status.busy": "2024-06-20T07:57:43.114486Z",
     "iopub.status.idle": "2024-06-20T07:57:43.775499Z",
     "shell.execute_reply": "2024-06-20T07:57:43.775499Z",
     "shell.execute_reply.started": "2024-06-20T07:57:43.114486Z"
    }
   },
   "outputs": [
    {
     "name": "stdout",
     "output_type": "stream",
     "text": [
      "Connected\n"
     ]
    }
   ],
   "source": [
    "## Get Login Info ###########################################################################################################\n",
    "wd_yaml=os.path.join(wd_DB, '.yaml')\n",
    "with open (os.path.join(wd_yaml, 'Demo-login.yaml'), 'r') as stream:\n",
    "    login=yaml.safe_load(stream)\n",
    "del(wd_yaml)\n",
    "\n",
    "### Connect to PHIS Database ################################################################################################\n",
    "Py_Client = osC.ApiClient()\n",
    "Py_Client.connect_to_opensilex_ws(identifier=login[\"Identifier\"],\n",
    "                                  password=login[\"Password\"],\n",
    "                                  host=login[\"Host\"])\n",
    "#print(Py_Client.default_headers['Authorization'])\n",
    "if Py_Client.default_headers:\n",
    "    print(\"Connected\")\n",
    "\n",
    "# Instance alternative link (UH):\n",
    "    # \"https://phis.emphasis.fedcloud.eu/uh/rest\"\n",
    "    # \"http://78.128.251.31:8081/uh/rest\"\n",
    "    # 'https://phis.emphasis.fedcloud.eu/egi-demo'"
   ]
  },
  {
   "cell_type": "markdown",
   "id": "2b70619b-0762-4a03-b8b8-387d608f26d2",
   "metadata": {},
   "source": [
    "# Delete data..."
   ]
  },
  {
   "cell_type": "markdown",
   "id": "ef2c9f4b-d345-4daa-8740-2aa06314a4a1",
   "metadata": {},
   "source": [
    "## ...based on variable"
   ]
  },
  {
   "cell_type": "code",
   "execution_count": 12,
   "id": "92877f46-2be9-4340-9de4-51999a457225",
   "metadata": {},
   "outputs": [
    {
     "name": "stdout",
     "output_type": "stream",
     "text": [
      "Done\n"
     ]
    }
   ],
   "source": [
    "#%% Delete Data  ########################################################\n",
    "Dat_Api = osC.DataApi(Py_Client)\n",
    "\n",
    "var=\"uh:id/variable/shootsystem_rotationalmasssymmetry_computing_unitless\"\n",
    "exp='uh:id/experiment/bra004l'\n",
    "Dat_Api.delete_data_on_search(variable=var, experiment=exp)\n",
    "print(\"Done\")\n",
    "del var\n",
    "\n",
    "del Dat_Api"
   ]
  },
  {
   "cell_type": "markdown",
   "id": "c1e44781-abe8-4b44-aaf6-4a559c3d873d",
   "metadata": {},
   "source": [
    "## ...based on Provenance"
   ]
  },
  {
   "cell_type": "code",
   "execution_count": 4,
   "id": "68c1b702-4dd8-429f-a513-2dda7e9dc354",
   "metadata": {
    "execution": {
     "iopub.execute_input": "2024-06-20T07:57:48.974065Z",
     "iopub.status.busy": "2024-06-20T07:57:48.974065Z",
     "iopub.status.idle": "2024-06-20T07:57:49.121670Z",
     "shell.execute_reply": "2024-06-20T07:57:49.112668Z",
     "shell.execute_reply.started": "2024-06-20T07:57:48.974065Z"
    }
   },
   "outputs": [
    {
     "name": "stdout",
     "output_type": "stream",
     "text": [
      "Done\n"
     ]
    }
   ],
   "source": [
    "#%% Delete Data  ########################################################\n",
    "Dat_Api = osC.DataApi(Py_Client)\n",
    "\n",
    "prov=\"opensilex-sandbox:id/provenance/modular_rgb1_morphoparameters\"\n",
    "Dat_Api.delete_data_on_search(provenance=prov)\n",
    "print(\"Done\")\n",
    "del prov\n",
    "\n",
    "del Dat_Api"
   ]
  },
  {
   "cell_type": "markdown",
   "id": "a7afde2e-b859-422a-97b9-020a3a002645",
   "metadata": {},
   "source": [
    "## ...based on URI"
   ]
  },
  {
   "cell_type": "code",
   "execution_count": 7,
   "id": "4d657685-402b-44d8-a8f4-ed1dd5aafca2",
   "metadata": {},
   "outputs": [
    {
     "name": "stdout",
     "output_type": "stream",
     "text": [
      "Done\n"
     ]
    }
   ],
   "source": [
    "Dat_Api = osC.DataApi(Py_Client)\n",
    "\n",
    "uri = \"uh:id/data/ad8be382-cce7-40d4-b005-704c7068d489\"\n",
    "Dat_Api.delete_data(uri, )\n",
    "print(\"Done\")\n",
    "\n",
    "del Dat_Api"
   ]
  },
  {
   "cell_type": "markdown",
   "id": "f9770c66-906e-42e3-83d1-deee7f54f8d9",
   "metadata": {},
   "source": [
    "# Delete Characteristic"
   ]
  },
  {
   "cell_type": "code",
   "execution_count": 16,
   "id": "4e0d854c-c677-48ca-a6eb-6d01a05d94ae",
   "metadata": {
    "execution": {
     "iopub.execute_input": "2024-04-15T14:23:23.727681Z",
     "iopub.status.busy": "2024-04-15T14:23:23.727681Z",
     "iopub.status.idle": "2024-04-15T14:23:24.026673Z",
     "shell.execute_reply": "2024-04-15T14:23:24.026673Z",
     "shell.execute_reply.started": "2024-04-15T14:23:23.727681Z"
    }
   },
   "outputs": [
    {
     "name": "stdout",
     "output_type": "stream",
     "text": [
      "Done\n"
     ]
    }
   ],
   "source": [
    "Var_Api = osC.VariablesApi(Py_Client)\n",
    "\n",
    "uri = \"http://purl.obolibrary.org/obo/PATO_0000146\"\n",
    "Var_Api.delete_characteristic(uri, )\n",
    "print(\"Done\")\n",
    "\n",
    "del Var_Api"
   ]
  },
  {
   "cell_type": "markdown",
   "id": "50708a31-b220-4939-8237-86d4a3dd47ae",
   "metadata": {
    "execution": {
     "iopub.execute_input": "2024-04-15T13:18:23.233174Z",
     "iopub.status.busy": "2024-04-15T13:18:23.233174Z",
     "iopub.status.idle": "2024-04-15T13:18:23.238175Z",
     "shell.execute_reply": "2024-04-15T13:18:23.238175Z",
     "shell.execute_reply.started": "2024-04-15T13:18:23.233174Z"
    }
   },
   "source": [
    "# Delete Entity"
   ]
  },
  {
   "cell_type": "code",
   "execution_count": 14,
   "id": "c107b333-3148-4edd-a43f-2936557e5dbc",
   "metadata": {
    "execution": {
     "iopub.execute_input": "2024-04-15T14:22:39.154062Z",
     "iopub.status.busy": "2024-04-15T14:22:39.154062Z",
     "iopub.status.idle": "2024-04-15T14:22:40.324169Z",
     "shell.execute_reply": "2024-04-15T14:22:40.324169Z",
     "shell.execute_reply.started": "2024-04-15T14:22:39.154062Z"
    }
   },
   "outputs": [
    {
     "name": "stdout",
     "output_type": "stream",
     "text": [
      "Done\n"
     ]
    }
   ],
   "source": [
    "Var_Api = osC.VariablesApi(Py_Client)\n",
    "\n",
    "uri = \"http://phis.mm.helsinki.fi/id/variable/entity.tiller\"\n",
    "Var_Api.delete_entity(uri, )\n",
    "print(\"Done\")\n",
    "\n",
    "del Var_Api"
   ]
  },
  {
   "cell_type": "markdown",
   "id": "994a9b1f-4d20-4c56-b596-b5b2748bcb11",
   "metadata": {},
   "source": [
    "# Delete Unit"
   ]
  },
  {
   "cell_type": "code",
   "execution_count": 18,
   "id": "9f48fd0d-0d58-4a3d-85a7-4f1d7af203be",
   "metadata": {
    "execution": {
     "iopub.execute_input": "2024-04-15T14:25:23.913510Z",
     "iopub.status.busy": "2024-04-15T14:25:23.912510Z",
     "iopub.status.idle": "2024-04-15T14:25:24.154635Z",
     "shell.execute_reply": "2024-04-15T14:25:24.154635Z",
     "shell.execute_reply.started": "2024-04-15T14:25:23.913510Z"
    }
   },
   "outputs": [
    {
     "name": "stdout",
     "output_type": "stream",
     "text": [
      "Done\n"
     ]
    }
   ],
   "source": [
    "Var_Api = osC.VariablesApi(Py_Client)\n",
    "\n",
    "uri = \"http://phenome.inrae.fr/id/variable/unit.score1-9\"\n",
    "Var_Api.delete_unit(uri, )\n",
    "print(\"Done\")\n",
    "\n",
    "del Var_Api"
   ]
  },
  {
   "cell_type": "markdown",
   "id": "cb779d9a-5b61-4090-bb1b-7a024fa953f0",
   "metadata": {},
   "source": [
    "# Count data..."
   ]
  },
  {
   "cell_type": "markdown",
   "id": "f833bccf-993a-4f2d-9b8d-ca73f895efe2",
   "metadata": {},
   "source": [
    "## ...based on variable"
   ]
  },
  {
   "cell_type": "code",
   "execution_count": 20,
   "id": "52b6028e-4d1a-4de0-9232-932ef9480ff5",
   "metadata": {},
   "outputs": [
    {
     "name": "stdout",
     "output_type": "stream",
     "text": [
      "{'result': 154708, 'metadata': {'pagination': {'pageSize': 0, 'currentPage': 0, 'totalCount': 0, 'totalPages': 0}, 'status': [], 'datafiles': []}}\n"
     ]
    }
   ],
   "source": [
    "Dat_Api = osC.DataApi(Py_Client)\n",
    "\n",
    "var=\"http://phis.mm.helsinki.fi/id/variable/air_temperature_datalogging_degreecelsius\"\n",
    "exp='uh:id/experiment/bra004l'\n",
    "\n",
    "Count = Dat_Api.count_data(variables=[var], experiments=[exp])\n",
    "del var\n",
    "\n",
    "print(Count)\n",
    "del Count\n",
    "\n",
    "del Dat_Api"
   ]
  },
  {
   "cell_type": "markdown",
   "id": "af8853a4-3d7b-4927-bd9d-252f0a429236",
   "metadata": {},
   "source": [
    "## ...based on Provenance"
   ]
  },
  {
   "cell_type": "code",
   "execution_count": 21,
   "id": "84c91e53-cd7b-4ecc-a463-8348fb4cf90f",
   "metadata": {},
   "outputs": [
    {
     "name": "stdout",
     "output_type": "stream",
     "text": [
      "{'result': 24570, 'metadata': {'pagination': {'pageSize': 0, 'currentPage': 0, 'totalCount': 0, 'totalPages': 0}, 'status': [], 'datafiles': []}}\n"
     ]
    }
   ],
   "source": [
    "Dat_Api = osC.DataApi(Py_Client)\n",
    "\n",
    "exp = \"uh:id/experiment/nova_exp00\"\n",
    "prov=\"uh:id/provenance/modular_rgb1_morphoparameters\"\n",
    "\n",
    "Count = Dat_Api.count_data(provenances=[prov])\n",
    "del prov\n",
    "\n",
    "print(Count)\n",
    "del Count\n",
    "\n",
    "del Dat_Api"
   ]
  },
  {
   "cell_type": "markdown",
   "id": "0eefd283-4930-4bfd-b9fe-3daa03fa79f4",
   "metadata": {},
   "source": [
    "# Delete ScObj and Event in Three steps"
   ]
  },
  {
   "cell_type": "markdown",
   "id": "be4e6214-07d9-440c-be3f-dc9537649358",
   "metadata": {},
   "source": [
    "## 1) Listing them by keyword"
   ]
  },
  {
   "cell_type": "code",
   "execution_count": 10,
   "id": "a9413b3b-f8a3-4f78-b6a9-81d3c269d0ad",
   "metadata": {
    "execution": {
     "iopub.execute_input": "2024-05-31T20:45:15.965889Z",
     "iopub.status.busy": "2024-05-31T20:45:15.965889Z",
     "iopub.status.idle": "2024-05-31T20:45:16.596839Z",
     "shell.execute_reply": "2024-05-31T20:45:16.592840Z",
     "shell.execute_reply.started": "2024-05-31T20:45:15.965889Z"
    }
   },
   "outputs": [
    {
     "data": {
      "text/plain": [
       "['uh:id/scientific-object/so-23_f1_002',\n",
       " 'uh:id/scientific-object/so-23_f1_003',\n",
       " 'uh:id/scientific-object/so-23_f1_005',\n",
       " 'uh:id/scientific-object/so-23_f1_006',\n",
       " 'uh:id/scientific-object/so-23_f1_007']"
      ]
     },
     "metadata": {},
     "output_type": "display_data"
    },
    {
     "name": "stdout",
     "output_type": "stream",
     "text": [
      "##########\n",
      "Number of Scientific Objects: 47\n",
      "\n",
      "\n"
     ]
    },
    {
     "data": {
      "text/plain": [
       "['uh:set/event/00df3b0d-b241-4a77-93a6-50b52237a86e',\n",
       " 'uh:set/event/1b05f49d-952c-42b6-a865-1e2927132a3a',\n",
       " 'uh:set/event/1ba26b5f-585b-4790-87fb-1879d12637d5',\n",
       " 'uh:set/event/1e7e3a01-e43e-4262-b72a-951878ad58dc',\n",
       " 'uh:set/event/1f8f01af-14f7-4d1c-909f-e56c712ad475']"
      ]
     },
     "metadata": {},
     "output_type": "display_data"
    },
    {
     "name": "stdout",
     "output_type": "stream",
     "text": [
      "##########\n",
      "Number of Event: 47\n"
     ]
    }
   ],
   "source": [
    "Keyword=\"23_F1_\"  # Adjust this string to match the name of the ScObj you need to remove\n",
    "\n",
    "# Search & List Scientific Object  ############################################\n",
    "ScOb_Api = osC.ScientificObjectsApi(Py_Client)  # Load the Scientific Objects API\n",
    "ScOb_Src = ScOb_Api.search_scientific_objects(name=Keyword, page_size=0, page=1)  # Search for ScObj with the specified keyword\n",
    "\n",
    "# Append all found ScObj URIs to a list\n",
    "ScOb_uri = []\n",
    "for i in ScOb_Src[\"result\"]:\n",
    "    ScOb_uri.append(i.uri)  # Collect the URI of each scientific object found in the search\n",
    "del ScOb_Src\n",
    "\n",
    "# Check if the right URIs were found by displaying the first few URIs and the total count\n",
    "display(ScOb_uri[0:5])  # Display the first 5 URIs found\n",
    "print('#' * 10)\n",
    "print(f'Number of Scientific Objects: {len(ScOb_uri)}')  # Print the total number of scientific objects found\n",
    "print('\\n')\n",
    "\n",
    "# Search & List Event linked to Scientific Object ############################################\n",
    "Event_API=osC.EventsApi(Py_Client)\n",
    "Event_Src=Event_API.search_events(target=Keyword, page_size=0, page=1)\n",
    "\n",
    "Event_uri = []\n",
    "for i in Event_Src[\"result\"]:\n",
    "    Event_uri.append(i.uri)\n",
    "\n",
    "# Display the first Event URIs and the total count\n",
    "display(Event_uri[0:5])  # Display the first 5 URIs found\n",
    "print('#' * 10)\n",
    "print(f'Number of Event: {len(Event_uri)}')  # Print the total number of Events found"
   ]
  },
  {
   "cell_type": "markdown",
   "id": "e5685787-43cc-400e-8c01-580f29a08080",
   "metadata": {},
   "source": [
    "## 2) Removing All Event as well as ScObj from existing experiment"
   ]
  },
  {
   "cell_type": "code",
   "execution_count": 11,
   "id": "073c85e7-64d1-4e8d-a98c-f6af1a8b7a22",
   "metadata": {
    "execution": {
     "iopub.execute_input": "2024-05-31T20:45:21.801598Z",
     "iopub.status.busy": "2024-05-31T20:45:21.800597Z",
     "iopub.status.idle": "2024-05-31T20:45:50.612472Z",
     "shell.execute_reply": "2024-05-31T20:45:50.612472Z",
     "shell.execute_reply.started": "2024-05-31T20:45:21.801598Z"
    }
   },
   "outputs": [
    {
     "name": "stderr",
     "output_type": "stream",
     "text": [
      "100%|██████████████████████████████████████████████████████████████████████████████████| 47/47 [00:16<00:00,  2.90it/s]\n",
      "100%|██████████████████████████████████████████████████████████████████████████████████| 47/47 [00:12<00:00,  3.74it/s]\n"
     ]
    }
   ],
   "source": [
    "# Iterate through the Event URI List to remove them one by one\n",
    "Event_API=osC.EventsApi(Py_Client)\n",
    "for i in tqdm(Event_uri):\n",
    "    Event_API.delete_move_event(uri=i)\n",
    "\n",
    "exp = \"uh:id/experiment/2023_f01\"  # Specify the experiment URI to which your ScObj were linked\n",
    "\n",
    "# Iterate through the ScObj URI List to remove them from the experiment one by one\n",
    "for i in tqdm(ScOb_uri):\n",
    "    ScOb_Api.delete_scientific_object(uri=i,\n",
    "                                      experiment=exp)  # Remove each ScObj from the specified experiment"
   ]
  },
  {
   "cell_type": "markdown",
   "id": "2bfe35cc-3524-4a22-9737-806fb7ae50c0",
   "metadata": {},
   "source": [
    "## 3) Removing ScObj from database"
   ]
  },
  {
   "cell_type": "code",
   "execution_count": 12,
   "id": "0eb406ae-f1ac-489f-9fd1-711145741c24",
   "metadata": {
    "execution": {
     "iopub.execute_input": "2024-05-31T20:45:58.064148Z",
     "iopub.status.busy": "2024-05-31T20:45:58.064148Z",
     "iopub.status.idle": "2024-05-31T20:46:08.480470Z",
     "shell.execute_reply": "2024-05-31T20:46:08.480470Z",
     "shell.execute_reply.started": "2024-05-31T20:45:58.064148Z"
    }
   },
   "outputs": [
    {
     "name": "stderr",
     "output_type": "stream",
     "text": [
      "100%|██████████████████████████████████████████████████████████████████████████████████| 47/47 [00:10<00:00,  4.52it/s]\n"
     ]
    }
   ],
   "source": [
    "for i in tqdm(ScOb_uri):\n",
    "    ScOb_Api.delete_scientific_object(uri=i)"
   ]
  },
  {
   "cell_type": "code",
   "execution_count": null,
   "id": "713774f2-167e-4753-9c79-a974db4e6569",
   "metadata": {},
   "outputs": [],
   "source": []
  },
  {
   "cell_type": "markdown",
   "id": "5e61d66d-e123-4148-b1ac-0892f6f28e13",
   "metadata": {},
   "source": [
    "# Work in Progress"
   ]
  },
  {
   "cell_type": "code",
   "execution_count": null,
   "id": "58f1130e-7488-442b-871f-4a29858815b0",
   "metadata": {},
   "outputs": [],
   "source": []
  },
  {
   "cell_type": "code",
   "execution_count": 30,
   "id": "6f92096a-ecb6-405c-86e0-b10976d1c075",
   "metadata": {
    "execution": {
     "iopub.execute_input": "2024-05-14T18:41:25.597897Z",
     "iopub.status.busy": "2024-05-14T18:41:25.597897Z",
     "iopub.status.idle": "2024-05-14T18:41:27.567029Z",
     "shell.execute_reply": "2024-05-14T18:41:27.566025Z",
     "shell.execute_reply.started": "2024-05-14T18:41:25.597897Z"
    }
   },
   "outputs": [
    {
     "data": {
      "text/plain": [
       "['uh:id/organization/facility.climate_station',\n",
       " 'uh:id/organization/facility.compact_nappi',\n",
       " 'uh:id/organization/facility.k024_table_1',\n",
       " 'uh:id/organization/facility.m1a',\n",
       " 'uh:id/organization/facility.m1a/1',\n",
       " 'uh:id/organization/facility.m1b',\n",
       " 'uh:id/organization/facility.m2a',\n",
       " 'uh:id/organization/facility.m2b',\n",
       " 'uh:id/organization/facility.m3a',\n",
       " 'uh:id/organization/facility.m3b',\n",
       " 'uh:id/organization/facility.m4a',\n",
       " 'uh:id/organization/facility.m4b',\n",
       " 'uh:id/organization/facility.modular_nappi',\n",
       " 'uh:id/organization/facility.national_plant_phenotyping_infrastructure',\n",
       " 'uh:id/organization/facility.plantscreen_compact_adaptation_tunnel',\n",
       " 'uh:id/organization/facility.plantscreen_modular_adaptation_tunnel',\n",
       " 'uh:id/organization/facility.plantscreen_modular_row_01',\n",
       " 'uh:id/organization/facility.plantscreen_modular_row_02',\n",
       " 'uh:id/organization/facility.plantscreen_compact_system/1',\n",
       " 'uh:id/organization/facility.plantscreen_modular_system',\n",
       " 'uh:id/organization/facility.room_k024',\n",
       " 'uh:id/organization/facility.vigor_greenhouse',\n",
       " 'uh:id/organization/facility.walk-in_fytoscope',\n",
       " 'uh:id/organization/facility.walk-in_fytoscope_shelf_11',\n",
       " 'uh:id/organization/facility.walk-in_fytoscope_shelf_12']"
      ]
     },
     "metadata": {},
     "output_type": "display_data"
    }
   ],
   "source": [
    "Orga_Api = osC.OrganizationsApi(Py_Client)\n",
    "Fac_Src = Orga_Api.search_facilities(pattern=\"\", page_size=0, page=1)\n",
    "\n",
    "Fac_uri = []\n",
    "for i in Fac_Src[\"result\"]:\n",
    "    Fac_uri.append(i.uri)\n",
    "display(Fac_uri)"
   ]
  },
  {
   "cell_type": "code",
   "execution_count": 75,
   "id": "9f4df342-986b-4937-8637-74184eb2e3b1",
   "metadata": {
    "execution": {
     "iopub.execute_input": "2024-05-14T19:32:15.696782Z",
     "iopub.status.busy": "2024-05-14T19:32:15.695782Z",
     "iopub.status.idle": "2024-05-14T19:32:15.893322Z",
     "shell.execute_reply": "2024-05-14T19:32:15.888546Z",
     "shell.execute_reply.started": "2024-05-14T19:32:15.696782Z"
    }
   },
   "outputs": [
    {
     "data": {
      "text/plain": [
       "{'address': None,\n",
       " 'geometry': None,\n",
       " 'name': 'PlantScreen Modular Adaptation tunnel',\n",
       " 'organizations': [{'name': 'Viikki Plant Growth Facilities ',\n",
       "                    'rdf_type': 'vocabulary:Installation',\n",
       "                    'rdf_type_name': 'Installation',\n",
       "                    'uri': 'uh:id/organization/viikki_plant_growth_facilities'}],\n",
       " 'rdf_type': 'vocabulary:AdaptationTunnel',\n",
       " 'rdf_type_name': 'Adaptation Tunnel',\n",
       " 'relations': [{'_property': 'vocabulary:isSubFacility',\n",
       "                'inverse': False,\n",
       "                'value': 'uh:id/organization/facility.plantscreen_modular_system'},\n",
       "               {'_property': 'vocabulary:hasSubFacility',\n",
       "                'inverse': True,\n",
       "                'value': 'uh:id/organization/facility.plantscreen_modular_system'}],\n",
       " 'sites': [],\n",
       " 'uri': 'uh:id/organization/facility.plantscreen_modular_adaptation_tunnel',\n",
       " 'variable_groups': []}"
      ]
     },
     "metadata": {},
     "output_type": "display_data"
    }
   ],
   "source": [
    "Orga_Api = osC.OrganizationsApi(Py_Client)\n",
    "\n",
    "uri='uh:id/organization/facility.plantscreen_modular_adaptation_tunnel'\n",
    "\n",
    "Facility = Orga_Api.get_facility(uri, )\n",
    "display(Facility['result'])"
   ]
  },
  {
   "cell_type": "code",
   "execution_count": 76,
   "id": "a6d1a07f-a30f-4495-9f49-a01736633fa7",
   "metadata": {
    "execution": {
     "iopub.execute_input": "2024-05-14T19:33:00.567356Z",
     "iopub.status.busy": "2024-05-14T19:33:00.567356Z",
     "iopub.status.idle": "2024-05-14T19:33:01.295197Z",
     "shell.execute_reply": "2024-05-14T19:33:01.295197Z",
     "shell.execute_reply.started": "2024-05-14T19:33:00.567356Z"
    }
   },
   "outputs": [
    {
     "data": {
      "text/plain": [
       "{'result': ['uh:id/organization/facility.plantscreen_modular_adaptation_tunnel'],\n",
       " 'metadata': {'pagination': {'pageSize': 0,\n",
       "   'currentPage': 0,\n",
       "   'totalCount': 0,\n",
       "   'totalPages': 0},\n",
       "  'status': [],\n",
       "  'datafiles': ['uh:id/organization/facility.plantscreen_modular_adaptation_tunnel']}}"
      ]
     },
     "execution_count": 76,
     "metadata": {},
     "output_type": "execute_result"
    }
   ],
   "source": [
    "Orga_Api = osC.OrganizationsApi(Py_Client)\n",
    "\n",
    "uri = 'uh:id/organization/facility.plantscreen_modular_adaptation_tunnel'\n",
    "\n",
    "rdf_type = 'vocabulary:AdaptationTunnel'\n",
    "rdf_type_name = 'Adaptation Tunnel'\n",
    "\n",
    "name = 'PlantScreen Modular Adaptation tunnel'\n",
    "\n",
    "orga = ['uh:id/organization/viikki_plant_growth_facilities']\n",
    "\n",
    "issub01 = osC.RDFObjectRelationDTO(_property = 'vocabulary:isSubFacility',\n",
    "                                      value = 'uh:id/organization/facility.plantscreen_modular_system',\n",
    "                                      inverse = False)\n",
    "\n",
    "hassub01 = osC.RDFObjectRelationDTO(_property = 'vocabulary:hasSubFacility',\n",
    "                                      value = 'uh:id/organization/facility.plantscreen_modular_row_01',\n",
    "                                      inverse =False)\n",
    "\n",
    "hassub02 = osC.RDFObjectRelationDTO(_property = 'vocabulary:hasSubFacility',\n",
    "                                      value = 'uh:id/organization/facility.plantscreen_modular_row_02',\n",
    "                                      inverse = False)\n",
    "\n",
    "hassub03 = osC.RDFObjectRelationDTO(_property = 'vocabulary:hasSubFacility',\n",
    "                                      value = 'uh:id/organization/facility.plantscreen_modular_adaptation_tunnel',\n",
    "                                      inverse = False)\n",
    "\n",
    "relations = [issub01]\n",
    "\n",
    "body = osC.FacilityUpdateDTO(uri=uri,\n",
    "                             rdf_type=rdf_type,\n",
    "                             rdf_type_name=rdf_type_name,\n",
    "                             name=name,\n",
    "                             organizations=orga,\n",
    "                             relations=relations)\n",
    "\n",
    "Orga_Api.update_facility(body=body, )"
   ]
  },
  {
   "cell_type": "code",
   "execution_count": 77,
   "id": "d14ce780-4dec-4011-ac8b-504ddcd33a44",
   "metadata": {
    "execution": {
     "iopub.execute_input": "2024-05-14T19:33:03.485343Z",
     "iopub.status.busy": "2024-05-14T19:33:03.485343Z",
     "iopub.status.idle": "2024-05-14T19:33:03.679243Z",
     "shell.execute_reply": "2024-05-14T19:33:03.679243Z",
     "shell.execute_reply.started": "2024-05-14T19:33:03.485343Z"
    }
   },
   "outputs": [
    {
     "data": {
      "text/plain": [
       "{'address': None,\n",
       " 'geometry': None,\n",
       " 'name': 'PlantScreen Modular Adaptation tunnel',\n",
       " 'organizations': [{'name': 'Viikki Plant Growth Facilities ',\n",
       "                    'rdf_type': 'vocabulary:Installation',\n",
       "                    'rdf_type_name': 'Installation',\n",
       "                    'uri': 'uh:id/organization/viikki_plant_growth_facilities'}],\n",
       " 'rdf_type': 'vocabulary:AdaptationTunnel',\n",
       " 'rdf_type_name': 'Adaptation Tunnel',\n",
       " 'relations': [{'_property': 'vocabulary:isSubFacility',\n",
       "                'inverse': False,\n",
       "                'value': 'uh:id/organization/facility.plantscreen_modular_system'},\n",
       "               {'_property': 'vocabulary:hasSubFacility',\n",
       "                'inverse': True,\n",
       "                'value': 'uh:id/organization/facility.plantscreen_modular_system'}],\n",
       " 'sites': [],\n",
       " 'uri': 'uh:id/organization/facility.plantscreen_modular_adaptation_tunnel',\n",
       " 'variable_groups': []}"
      ]
     },
     "metadata": {},
     "output_type": "display_data"
    }
   ],
   "source": [
    "Orga_Api = osC.OrganizationsApi(Py_Client)\n",
    "\n",
    "Facility = Orga_Api.get_facility(uri, )\n",
    "display(Facility['result'])"
   ]
  },
  {
   "cell_type": "code",
   "execution_count": null,
   "id": "8a8a46c5-1916-4648-b904-fa71424c0886",
   "metadata": {},
   "outputs": [],
   "source": []
  },
  {
   "cell_type": "code",
   "execution_count": 6,
   "id": "aaa9b2a2-8220-4870-961c-f09404fd0377",
   "metadata": {
    "execution": {
     "iopub.execute_input": "2024-05-27T19:20:26.559472Z",
     "iopub.status.busy": "2024-05-27T19:20:26.559472Z",
     "iopub.status.idle": "2024-05-27T19:20:26.678482Z",
     "shell.execute_reply": "2024-05-27T19:20:26.677749Z",
     "shell.execute_reply.started": "2024-05-27T19:20:26.559472Z"
    }
   },
   "outputs": [
    {
     "data": {
      "text/plain": [
       "[{'category': None,\n",
       "  'description': None,\n",
       "  'experiment': 'uh:id/experiment/eppn2020_jra14_obj3_nappi',\n",
       "  'name': 'Irrigation',\n",
       "  'uri': 'uh:id/factor/eppn2020_jra14_obj3_nappi.irrigation'}]"
      ]
     },
     "metadata": {},
     "output_type": "display_data"
    }
   ],
   "source": [
    "Fac_Api = osC.FactorsApi(Py_Client)\n",
    "\n",
    "name='Irrigation'\n",
    "\n",
    "Factor = Fac_Api.search_factors(name=name)\n",
    "display(Factor['result'])"
   ]
  },
  {
   "cell_type": "code",
   "execution_count": null,
   "id": "4ce22dc6-5f92-483d-a708-bec68bc458b5",
   "metadata": {},
   "outputs": [],
   "source": []
  },
  {
   "cell_type": "markdown",
   "id": "a2c64516-c5cd-40a7-929d-2d6c6a490e69",
   "metadata": {},
   "source": [
    "# Timezone"
   ]
  },
  {
   "cell_type": "code",
   "execution_count": 23,
   "id": "b229fb4e-7dce-492a-8455-5b0ef8658470",
   "metadata": {
    "execution": {
     "iopub.execute_input": "2024-05-31T05:03:02.047332Z",
     "iopub.status.busy": "2024-05-31T05:03:02.046331Z",
     "iopub.status.idle": "2024-05-31T05:03:02.073934Z",
     "shell.execute_reply": "2024-05-31T05:03:02.072934Z",
     "shell.execute_reply.started": "2024-05-31T05:03:02.047332Z"
    }
   },
   "outputs": [
    {
     "data": {
      "text/html": [
       "<div>\n",
       "<style scoped>\n",
       "    .dataframe tbody tr th:only-of-type {\n",
       "        vertical-align: middle;\n",
       "    }\n",
       "\n",
       "    .dataframe tbody tr th {\n",
       "        vertical-align: top;\n",
       "    }\n",
       "\n",
       "    .dataframe thead th {\n",
       "        text-align: right;\n",
       "    }\n",
       "</style>\n",
       "<table border=\"1\" class=\"dataframe\">\n",
       "  <thead>\n",
       "    <tr style=\"text-align: right;\">\n",
       "      <th></th>\n",
       "      <th>uri</th>\n",
       "      <th>rdfType</th>\n",
       "      <th>isInstant</th>\n",
       "      <th>start</th>\n",
       "      <th>end</th>\n",
       "      <th>targets</th>\n",
       "      <th>description</th>\n",
       "      <th>from</th>\n",
       "      <th>to</th>\n",
       "      <th>coordinates</th>\n",
       "      <th>x</th>\n",
       "      <th>y</th>\n",
       "      <th>z</th>\n",
       "      <th>textualPosition</th>\n",
       "    </tr>\n",
       "  </thead>\n",
       "  <tbody>\n",
       "    <tr>\n",
       "      <th>0</th>\n",
       "      <td>NaN</td>\n",
       "      <td>oeev:Move</td>\n",
       "      <td>True</td>\n",
       "      <td>NaN</td>\n",
       "      <td>2023-09-14T10:00:00</td>\n",
       "      <td>uh:id/scientific-object/so-23_kuka_301</td>\n",
       "      <td>NaN</td>\n",
       "      <td>uh:id/organization/facility.plantscreen_compac...</td>\n",
       "      <td>uh:id/organization/facility.plantscreen_compac...</td>\n",
       "      <td>NaN</td>\n",
       "      <td>NaN</td>\n",
       "      <td>NaN</td>\n",
       "      <td>NaN</td>\n",
       "      <td>TrayPos: Area 01</td>\n",
       "    </tr>\n",
       "    <tr>\n",
       "      <th>1</th>\n",
       "      <td>NaN</td>\n",
       "      <td>oeev:Move</td>\n",
       "      <td>True</td>\n",
       "      <td>NaN</td>\n",
       "      <td>2023-09-14T10:00:00</td>\n",
       "      <td>uh:id/scientific-object/so-23_kuka_302</td>\n",
       "      <td>NaN</td>\n",
       "      <td>uh:id/organization/facility.plantscreen_compac...</td>\n",
       "      <td>uh:id/organization/facility.plantscreen_compac...</td>\n",
       "      <td>NaN</td>\n",
       "      <td>NaN</td>\n",
       "      <td>NaN</td>\n",
       "      <td>NaN</td>\n",
       "      <td>TrayPos: Area 02</td>\n",
       "    </tr>\n",
       "    <tr>\n",
       "      <th>2</th>\n",
       "      <td>NaN</td>\n",
       "      <td>oeev:Move</td>\n",
       "      <td>True</td>\n",
       "      <td>NaN</td>\n",
       "      <td>2023-09-14T10:00:00</td>\n",
       "      <td>uh:id/scientific-object/so-23_kuka_303</td>\n",
       "      <td>NaN</td>\n",
       "      <td>uh:id/organization/facility.plantscreen_compac...</td>\n",
       "      <td>uh:id/organization/facility.plantscreen_compac...</td>\n",
       "      <td>NaN</td>\n",
       "      <td>NaN</td>\n",
       "      <td>NaN</td>\n",
       "      <td>NaN</td>\n",
       "      <td>TrayPos: Area 03</td>\n",
       "    </tr>\n",
       "    <tr>\n",
       "      <th>3</th>\n",
       "      <td>NaN</td>\n",
       "      <td>oeev:Move</td>\n",
       "      <td>True</td>\n",
       "      <td>NaN</td>\n",
       "      <td>2023-09-14T10:00:00</td>\n",
       "      <td>uh:id/scientific-object/so-23_kuka_304</td>\n",
       "      <td>NaN</td>\n",
       "      <td>uh:id/organization/facility.plantscreen_compac...</td>\n",
       "      <td>uh:id/organization/facility.plantscreen_compac...</td>\n",
       "      <td>NaN</td>\n",
       "      <td>NaN</td>\n",
       "      <td>NaN</td>\n",
       "      <td>NaN</td>\n",
       "      <td>TrayPos: Area 04</td>\n",
       "    </tr>\n",
       "    <tr>\n",
       "      <th>4</th>\n",
       "      <td>NaN</td>\n",
       "      <td>oeev:Move</td>\n",
       "      <td>True</td>\n",
       "      <td>NaN</td>\n",
       "      <td>2023-09-14T10:00:00</td>\n",
       "      <td>uh:id/scientific-object/so-23_kuka_305</td>\n",
       "      <td>NaN</td>\n",
       "      <td>uh:id/organization/facility.plantscreen_compac...</td>\n",
       "      <td>uh:id/organization/facility.plantscreen_compac...</td>\n",
       "      <td>NaN</td>\n",
       "      <td>NaN</td>\n",
       "      <td>NaN</td>\n",
       "      <td>NaN</td>\n",
       "      <td>TrayPos: Area 05</td>\n",
       "    </tr>\n",
       "  </tbody>\n",
       "</table>\n",
       "</div>"
      ],
      "text/plain": [
       "   uri    rdfType  isInstant  start                  end  \\\n",
       "0  NaN  oeev:Move       True    NaN  2023-09-14T10:00:00   \n",
       "1  NaN  oeev:Move       True    NaN  2023-09-14T10:00:00   \n",
       "2  NaN  oeev:Move       True    NaN  2023-09-14T10:00:00   \n",
       "3  NaN  oeev:Move       True    NaN  2023-09-14T10:00:00   \n",
       "4  NaN  oeev:Move       True    NaN  2023-09-14T10:00:00   \n",
       "\n",
       "                                  targets  description  \\\n",
       "0  uh:id/scientific-object/so-23_kuka_301          NaN   \n",
       "1  uh:id/scientific-object/so-23_kuka_302          NaN   \n",
       "2  uh:id/scientific-object/so-23_kuka_303          NaN   \n",
       "3  uh:id/scientific-object/so-23_kuka_304          NaN   \n",
       "4  uh:id/scientific-object/so-23_kuka_305          NaN   \n",
       "\n",
       "                                                from  \\\n",
       "0  uh:id/organization/facility.plantscreen_compac...   \n",
       "1  uh:id/organization/facility.plantscreen_compac...   \n",
       "2  uh:id/organization/facility.plantscreen_compac...   \n",
       "3  uh:id/organization/facility.plantscreen_compac...   \n",
       "4  uh:id/organization/facility.plantscreen_compac...   \n",
       "\n",
       "                                                  to  coordinates   x   y   z  \\\n",
       "0  uh:id/organization/facility.plantscreen_compac...          NaN NaN NaN NaN   \n",
       "1  uh:id/organization/facility.plantscreen_compac...          NaN NaN NaN NaN   \n",
       "2  uh:id/organization/facility.plantscreen_compac...          NaN NaN NaN NaN   \n",
       "3  uh:id/organization/facility.plantscreen_compac...          NaN NaN NaN NaN   \n",
       "4  uh:id/organization/facility.plantscreen_compac...          NaN NaN NaN NaN   \n",
       "\n",
       "    textualPosition  \n",
       "0  TrayPos: Area 01  \n",
       "1  TrayPos: Area 02  \n",
       "2  TrayPos: Area 03  \n",
       "3  TrayPos: Area 04  \n",
       "4  TrayPos: Area 05  "
      ]
     },
     "execution_count": 23,
     "metadata": {},
     "output_type": "execute_result"
    }
   ],
   "source": [
    "move = pd.read_csv(r'P:\\h572\\nappi_hy_data\\GrpFd_Pienet\\2023_KuKa\\2024_KuKa-05_ToShelves&FG\\Registration\\KuKa_Tomato-move_template_Test.csv')\n",
    "move.head()"
   ]
  },
  {
   "cell_type": "code",
   "execution_count": 6,
   "id": "c3a7d535-df72-42c0-97d5-8a6ebca37152",
   "metadata": {
    "execution": {
     "iopub.execute_input": "2024-05-31T04:48:23.632397Z",
     "iopub.status.busy": "2024-05-31T04:48:23.632397Z",
     "iopub.status.idle": "2024-05-31T04:48:23.641395Z",
     "shell.execute_reply": "2024-05-31T04:48:23.641395Z",
     "shell.execute_reply.started": "2024-05-31T04:48:23.632397Z"
    }
   },
   "outputs": [
    {
     "data": {
      "text/plain": [
       "'2023-09-14T10:00:00'"
      ]
     },
     "execution_count": 6,
     "metadata": {},
     "output_type": "execute_result"
    }
   ],
   "source": [
    "move['end'][0]"
   ]
  },
  {
   "cell_type": "code",
   "execution_count": 26,
   "id": "97c176ef-a851-40ce-bc81-6a57bff62e5a",
   "metadata": {
    "execution": {
     "iopub.execute_input": "2024-05-31T05:03:42.067159Z",
     "iopub.status.busy": "2024-05-31T05:03:42.067159Z",
     "iopub.status.idle": "2024-05-31T05:03:42.083274Z",
     "shell.execute_reply": "2024-05-31T05:03:42.083274Z",
     "shell.execute_reply.started": "2024-05-31T05:03:42.067159Z"
    }
   },
   "outputs": [
    {
     "name": "stdout",
     "output_type": "stream",
     "text": [
      "2023-09-14T10:00:00+00:00\n"
     ]
    }
   ],
   "source": [
    "# Read the CSV file\n",
    "move = pd.read_csv(r'P:\\h572\\nappi_hy_data\\GrpFd_Pienet\\2023_KuKa\\2024_KuKa-05_ToShelves&FG\\Registration\\KuKa_Tomato-move_template_Test.csv')\n",
    "\n",
    "# Extract the datetime string from the 'end' column and parse it\n",
    "finnish_time_str = move['end'][0]\n",
    "finnish_timezone = pytz.utc\n",
    "finnish_time = datetime.strptime(finnish_time_str, \"%Y-%m-%dT%H:%M:%S\").replace(tzinfo=finnish_timezone)\n",
    "\n",
    "\n",
    "# Print the time with Helsinki timezone\n",
    "print(finnish_time.isoformat())"
   ]
  },
  {
   "cell_type": "code",
   "execution_count": 27,
   "id": "8733d8ae-aa04-4a66-a7b0-860696fa8ab9",
   "metadata": {
    "execution": {
     "iopub.execute_input": "2024-05-31T05:05:11.762836Z",
     "iopub.status.busy": "2024-05-31T05:05:11.761837Z",
     "iopub.status.idle": "2024-05-31T05:05:11.780834Z",
     "shell.execute_reply": "2024-05-31T05:05:11.780834Z",
     "shell.execute_reply.started": "2024-05-31T05:05:11.762836Z"
    }
   },
   "outputs": [
    {
     "name": "stdout",
     "output_type": "stream",
     "text": [
      "2023-09-14T13:00:00+03:00\n"
     ]
    }
   ],
   "source": [
    "# Read the CSV file\n",
    "move = pd.read_csv(r'P:\\h572\\nappi_hy_data\\GrpFd_Pienet\\2023_KuKa\\2024_KuKa-05_ToShelves&FG\\Registration\\KuKa_Tomato-move_template_Test.csv')\n",
    "\n",
    "time_str = move['end'][0]\n",
    "\n",
    "# Parse the string to datetime object assuming it's in UTC\n",
    "hel_time = datetime.strptime(time_str, \"%Y-%m-%dT%H:%M:%S\")\n",
    "\n",
    "# Set the timezone to UTC\n",
    "hel_time_utc = hel_time.replace(tzinfo=pytz.utc)\n",
    "\n",
    "# Convert to Helsinki timezone\n",
    "hel_timezone = pytz.timezone('Europe/Helsinki')\n",
    "hel_time_hel = hel_time_utc.astimezone(hel_timezone)\n",
    "\n",
    "print(hel_time_hel.isoformat())"
   ]
  },
  {
   "cell_type": "code",
   "execution_count": 28,
   "id": "b3f8ef37-ca23-4285-a903-3b54849374d8",
   "metadata": {
    "execution": {
     "iopub.execute_input": "2024-05-31T05:05:25.119396Z",
     "iopub.status.busy": "2024-05-31T05:05:25.119396Z",
     "iopub.status.idle": "2024-05-31T05:05:25.127396Z",
     "shell.execute_reply": "2024-05-31T05:05:25.127396Z",
     "shell.execute_reply.started": "2024-05-31T05:05:25.119396Z"
    }
   },
   "outputs": [
    {
     "data": {
      "text/plain": [
       "'2023-09-14T10:00:00'"
      ]
     },
     "execution_count": 28,
     "metadata": {},
     "output_type": "execute_result"
    }
   ],
   "source": [
    "time_str"
   ]
  },
  {
   "cell_type": "code",
   "execution_count": null,
   "id": "abe4f31b-77a0-4b64-88b3-a097d2ba088a",
   "metadata": {},
   "outputs": [],
   "source": []
  }
 ],
 "metadata": {
  "kernelspec": {
   "display_name": "opensilex-env",
   "language": "python",
   "name": "opensilex-env"
  },
  "language_info": {
   "codemirror_mode": {
    "name": "ipython",
    "version": 3
   },
   "file_extension": ".py",
   "mimetype": "text/x-python",
   "name": "python",
   "nbconvert_exporter": "python",
   "pygments_lexer": "ipython3",
   "version": "3.10.7"
  }
 },
 "nbformat": 4,
 "nbformat_minor": 5
}
